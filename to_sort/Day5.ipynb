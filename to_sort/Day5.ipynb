{
 "cells": [
  {
   "cell_type": "markdown",
   "metadata": {},
   "source": [
    "# Automate browser stuff (mainly for testing)\n",
    "[docs](http://selenium-python.readthedocs.io/getting-started.html)"
   ]
  },
  {
   "cell_type": "code",
   "execution_count": 67,
   "metadata": {},
   "outputs": [
    {
     "name": "stdout",
     "output_type": "stream",
     "text": [
      "ono\n"
     ]
    }
   ],
   "source": [
    "from selenium import webdriver\n",
    "from selenium.webdriver.common.keys import Keys\n",
    "\n",
    "driver = webdriver.Chrome()\n",
    "driver.get(\"http://www.python.org\")\n",
    "try:\n",
    "    assert \"Pytsafsahon\" in driver.title\n",
    "except AssertionError:\n",
    "    print('ono')\n",
    "elem = driver.find_element_by_name(\"q\")\n",
    "elem.clear()\n",
    "elem.send_keys(\"pycon\")\n",
    "elem.send_keys(Keys.RETURN)\n",
    "assert \"No results found.\" not in driver.page_source\n",
    "driver.close()"
   ]
  },
  {
   "cell_type": "code",
   "execution_count": 18,
   "metadata": {
    "collapsed": true
   },
   "outputs": [],
   "source": [
    "driver = webdriver.Chrome()\n",
    "driver.get('http://czc.cz')"
   ]
  },
  {
   "cell_type": "code",
   "execution_count": 14,
   "metadata": {},
   "outputs": [
    {
     "data": {
      "text/plain": [
       "'CZC.cz - rozumíme vám i elektronice'"
      ]
     },
     "execution_count": 14,
     "metadata": {},
     "output_type": "execute_result"
    }
   ],
   "source": [
    "driver.title"
   ]
  },
  {
   "cell_type": "code",
   "execution_count": 15,
   "metadata": {},
   "outputs": [
    {
     "data": {
      "text/plain": [
       "{'acceptSslCerts': True,\n",
       " 'applicationCacheEnabled': False,\n",
       " 'browserConnectionEnabled': False,\n",
       " 'browserName': 'chrome',\n",
       " 'chrome': {'chromedriverVersion': '2.30.477691 (6ee44a7247c639c0703f291d320bdf05c1531b57)',\n",
       "  'userDataDir': '/tmp/.org.chromium.Chromium.Gsakn9'},\n",
       " 'cssSelectorsEnabled': True,\n",
       " 'databaseEnabled': False,\n",
       " 'handlesAlerts': True,\n",
       " 'hasTouchScreen': False,\n",
       " 'javascriptEnabled': True,\n",
       " 'locationContextEnabled': True,\n",
       " 'mobileEmulationEnabled': False,\n",
       " 'nativeEvents': True,\n",
       " 'networkConnectionEnabled': False,\n",
       " 'pageLoadStrategy': 'normal',\n",
       " 'platform': 'Linux',\n",
       " 'rotatable': False,\n",
       " 'takesHeapSnapshot': True,\n",
       " 'takesScreenshot': True,\n",
       " 'unexpectedAlertBehaviour': '',\n",
       " 'version': '59.0.3071.115',\n",
       " 'webStorageEnabled': True}"
      ]
     },
     "execution_count": 15,
     "metadata": {},
     "output_type": "execute_result"
    }
   ],
   "source": [
    "driver.capabilities"
   ]
  },
  {
   "cell_type": "code",
   "execution_count": 19,
   "metadata": {
    "collapsed": true
   },
   "outputs": [],
   "source": [
    "with open('test.png', 'wb') as f:\n",
    "    f.write(driver.get_screenshot_as_png())"
   ]
  },
  {
   "cell_type": "code",
   "execution_count": 20,
   "metadata": {},
   "outputs": [
    {
     "data": {
      "text/plain": [
       "False"
      ]
     },
     "execution_count": 20,
     "metadata": {},
     "output_type": "execute_result"
    }
   ],
   "source": [
    "driver.w3c"
   ]
  },
  {
   "cell_type": "code",
   "execution_count": 21,
   "metadata": {
    "collapsed": true
   },
   "outputs": [],
   "source": [
    "driver.w3c?"
   ]
  },
  {
   "cell_type": "code",
   "execution_count": 22,
   "metadata": {
    "collapsed": true
   },
   "outputs": [],
   "source": [
    "#trying geckodriver now"
   ]
  },
  {
   "cell_type": "code",
   "execution_count": 24,
   "metadata": {
    "collapsed": true
   },
   "outputs": [],
   "source": [
    "from selenium import webdriver\n",
    "from selenium.webdriver.common.keys import Keys\n",
    "\n",
    "driver = webdriver.Firefox() #only change\n",
    "driver.get(\"http://www.python.org\")\n",
    "try:\n",
    "    assert \"Python\" in driver.title\n",
    "except AssertionError:\n",
    "    print('ono')\n",
    "elem = driver.find_element_by_name(\"q\")\n",
    "elem.clear()\n",
    "elem.send_keys(\"pycon\")\n",
    "elem.send_keys(Keys.RETURN)\n",
    "assert \"No results found.\" not in driver.page_source\n",
    "driver.close()"
   ]
  },
  {
   "cell_type": "code",
   "execution_count": 4,
   "metadata": {},
   "outputs": [
    {
     "name": "stdout",
     "output_type": "stream",
     "text": [
      "········\n"
     ]
    }
   ],
   "source": [
    "from getpass import getpass as hidden_input_for_password\n",
    "my_pass = hidden_input_for_password()"
   ]
  },
  {
   "cell_type": "code",
   "execution_count": 73,
   "metadata": {
    "collapsed": true
   },
   "outputs": [],
   "source": [
    "driver = webdriver.Chrome()\n",
    "url='https://w3-connections.ibm.com/wikis/home?lang=en-us#!/wiki/We26c576f4d20_45a6_a75b_f1cef0d56615/page/Boarded%20accounts'\n",
    "driver.get(url)\n",
    "login = driver.find_element_by_id('Intranet_ID')\n",
    "login.clear()\n",
    "login.send_keys('tomas.mikulec@cz.ibm.com')\n",
    "password = driver.find_element_by_id('password')\n",
    "password.clear()\n",
    "password.send_keys(my_pass)\n",
    "password.send_keys(Keys.RETURN)"
   ]
  },
  {
   "cell_type": "code",
   "execution_count": 60,
   "metadata": {
    "collapsed": true
   },
   "outputs": [],
   "source": [
    "#highlighting\n",
    "\n",
    "def highlight(element):\n",
    "    \"\"\"Highlights (blinks) a Webdriver element.\n",
    "    In pure javascript, as suggested by https://github.com/alp82.\n",
    "    \"\"\"\n",
    "    driver = element._parent\n",
    "    driver.execute_script(\"\"\"\n",
    "        element = arguments[0];\n",
    "        original_style = element.getAttribute('style');\n",
    "        element.setAttribute('style', original_style + \"; background: yellow; border: 2px solid red;\");\n",
    "        setTimeout(function(){\n",
    "            element.setAttribute('style', original_style);\n",
    "        }, 300);\n",
    "    \"\"\", element)"
   ]
  },
  {
   "cell_type": "code",
   "execution_count": null,
   "metadata": {
    "collapsed": true
   },
   "outputs": [],
   "source": [
    "driver = webdriver.Chrome()\n",
    "driver.get(url)\n",
    "login = driver.find_element_by_id('Intranet_ID')\n",
    "login.clear()\n",
    "login.send_keys('tomas.mikulec@cz.ibm.com')\n",
    "password = driver.find_element_by_id('password')\n",
    "password.clear()\n",
    "password.send_keys(my_pass)\n",
    "password.send_keys(Keys.RETURN)"
   ]
  },
  {
   "cell_type": "code",
   "execution_count": 74,
   "metadata": {
    "collapsed": true
   },
   "outputs": [],
   "source": [
    "# some more links"
   ]
  },
  {
   "cell_type": "markdown",
   "metadata": {},
   "source": [
    "* [Good Git Tutorials](https://www.atlassian.com/git/tutorials)\n",
    "* [Learn X in Y Minutes - Python3](https://learnxinyminutes.com/docs/python3/)"
   ]
  },
  {
   "cell_type": "code",
   "execution_count": 80,
   "metadata": {
    "collapsed": true
   },
   "outputs": [],
   "source": []
  },
  {
   "cell_type": "code",
   "execution_count": 6,
   "metadata": {},
   "outputs": [
    {
     "name": "stdout",
     "output_type": "stream",
     "text": [
      "Page is ready!\n"
     ]
    }
   ],
   "source": [
    "from selenium import webdriver\n",
    "from selenium.webdriver.common.keys import Keys\n",
    "from selenium.webdriver.support.ui import WebDriverWait\n",
    "from selenium.webdriver.support import expected_conditions as EC\n",
    "from selenium.common.exceptions import TimeoutException\n",
    "from selenium.webdriver.common.by import By\n",
    "\n",
    "browser = webdriver.Chrome()\n",
    "url='https://w3-connections.ibm.com/wikis/home?lang=en-us#!/wiki/We26c576f4d20_45a6_a75b_f1cef0d56615/page/Boarded%20accounts'\n",
    "browser.get(url)\n",
    "login = browser.find_element_by_id('Intranet_ID')\n",
    "login.clear()\n",
    "login.send_keys('tomas.mikulec@cz.ibm.com')\n",
    "password = browser.find_element_by_id('password')\n",
    "password.clear()\n",
    "password.send_keys(my_pass)\n",
    "password.send_keys(Keys.RETURN)\n",
    "delay = 5 # seconds\n",
    "try:\n",
    "    Client = WebDriverWait(browser, delay).until(EC.presence_of_element_located((By.LINK_TEXT, 'WAR')))\n",
    "    print(\"Page is ready!\")\n",
    "    Client.click()\n",
    "    try:\n",
    "        Docu = WebDriverWait(browser, delay).until(EC.presence_of_element_located((By.PARTIAL_LINK_TEXT, 'Oracle Table Space')))\n",
    "        Docu.click()\n",
    "    except TimeoutException:\n",
    "        print(\"Loading took too much time!\")\n",
    "except TimeoutException:\n",
    "    print(\"Loading took too much time!\")"
   ]
  },
  {
   "cell_type": "code",
   "execution_count": 77,
   "metadata": {
    "collapsed": true
   },
   "outputs": [],
   "source": [
    "EC.presence_of_element_located?"
   ]
  },
  {
   "cell_type": "markdown",
   "metadata": {
    "collapsed": true
   },
   "source": [
    "# Password"
   ]
  },
  {
   "cell_type": "code",
   "execution_count": 4,
   "metadata": {
    "collapsed": true
   },
   "outputs": [],
   "source": [
    "import password"
   ]
  },
  {
   "cell_type": "code",
   "execution_count": 5,
   "metadata": {},
   "outputs": [],
   "source": [
    "class User():\n",
    "    \n",
    "    password = password.Password(method='sha256', hash_encoding='base64')"
   ]
  },
  {
   "cell_type": "code",
   "execution_count": 11,
   "metadata": {
    "collapsed": true
   },
   "outputs": [],
   "source": [
    "user = User()"
   ]
  },
  {
   "cell_type": "code",
   "execution_count": 17,
   "metadata": {
    "collapsed": true
   },
   "outputs": [],
   "source": [
    "user.password = 'testingTHISTHINGY123'"
   ]
  },
  {
   "cell_type": "code",
   "execution_count": 18,
   "metadata": {},
   "outputs": [
    {
     "data": {
      "text/plain": [
       "<password._HashedPassword at 0x7f45d49939e8>"
      ]
     },
     "execution_count": 18,
     "metadata": {},
     "output_type": "execute_result"
    }
   ],
   "source": [
    "user.password"
   ]
  },
  {
   "cell_type": "code",
   "execution_count": 19,
   "metadata": {},
   "outputs": [
    {
     "data": {
      "text/plain": [
       "'M/6R993Kf0rqhllgBMnYb94OOdME1Itfj33O9BVcflw='"
      ]
     },
     "execution_count": 19,
     "metadata": {},
     "output_type": "execute_result"
    }
   ],
   "source": [
    "user.hash"
   ]
  },
  {
   "cell_type": "code",
   "execution_count": 20,
   "metadata": {},
   "outputs": [
    {
     "data": {
      "text/plain": [
       "'YJd0SicI'"
      ]
     },
     "execution_count": 20,
     "metadata": {},
     "output_type": "execute_result"
    }
   ],
   "source": [
    "user.salt"
   ]
  },
  {
   "cell_type": "code",
   "execution_count": 22,
   "metadata": {},
   "outputs": [
    {
     "data": {
      "text/plain": [
       "True"
      ]
     },
     "execution_count": 22,
     "metadata": {},
     "output_type": "execute_result"
    }
   ],
   "source": [
    "user.password == 'testingTHISTHINGY123'"
   ]
  },
  {
   "cell_type": "code",
   "execution_count": 23,
   "metadata": {
    "collapsed": true
   },
   "outputs": [],
   "source": [
    "import pickle"
   ]
  },
  {
   "cell_type": "code",
   "execution_count": 24,
   "metadata": {},
   "outputs": [],
   "source": [
    "pickle.dump(user, open('passwords.thingy', 'wb'))"
   ]
  },
  {
   "cell_type": "code",
   "execution_count": 25,
   "metadata": {},
   "outputs": [
    {
     "data": {
      "text/plain": [
       "<__main__.User at 0x7f45d4991898>"
      ]
     },
     "execution_count": 25,
     "metadata": {},
     "output_type": "execute_result"
    }
   ],
   "source": [
    "pickle.load(open('passwords.thingy', 'rb')) "
   ]
  },
  {
   "cell_type": "code",
   "execution_count": 26,
   "metadata": {
    "collapsed": true
   },
   "outputs": [],
   "source": [
    "our_saved_user = pickle.load(open('passwords.thingy', 'rb')) "
   ]
  },
  {
   "cell_type": "code",
   "execution_count": 27,
   "metadata": {},
   "outputs": [
    {
     "data": {
      "text/plain": [
       "<password._HashedPassword at 0x7f45d4991438>"
      ]
     },
     "execution_count": 27,
     "metadata": {},
     "output_type": "execute_result"
    }
   ],
   "source": [
    "our_saved_user.password"
   ]
  },
  {
   "cell_type": "code",
   "execution_count": 28,
   "metadata": {},
   "outputs": [
    {
     "data": {
      "text/plain": [
       "True"
      ]
     },
     "execution_count": 28,
     "metadata": {},
     "output_type": "execute_result"
    }
   ],
   "source": [
    "our_saved_user.password  == 'testingTHISTHINGY123'"
   ]
  },
  {
   "cell_type": "code",
   "execution_count": 29,
   "metadata": {},
   "outputs": [
    {
     "name": "stdout",
     "output_type": "stream",
     "text": [
      "�\u0003c__main__\r\n",
      "User\r\n",
      "q\u0000)�q\u0001}q\u0002(X\u0004\u0000\u0000\u0000hashq\u0003X,\u0000\u0000\u0000M/6R993Kf0rqhllgBMnYb94OOdME1Itfj33O9BVcflw=q\u0004X\u0004\u0000\u0000\u0000saltq\u0005X\b\u0000\u0000\u0000YJd0SicIq\u0006ub."
     ]
    }
   ],
   "source": [
    "cat passwords.thingy"
   ]
  },
  {
   "cell_type": "code",
   "execution_count": null,
   "metadata": {
    "collapsed": true
   },
   "outputs": [],
   "source": []
  }
 ],
 "metadata": {
  "kernelspec": {
   "display_name": "Python 3",
   "language": "python",
   "name": "python3"
  },
  "language_info": {
   "codemirror_mode": {
    "name": "ipython",
    "version": 3
   },
   "file_extension": ".py",
   "mimetype": "text/x-python",
   "name": "python",
   "nbconvert_exporter": "python",
   "pygments_lexer": "ipython3",
   "version": "3.5.3"
  }
 },
 "nbformat": 4,
 "nbformat_minor": 2
}
