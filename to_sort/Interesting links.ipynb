{
 "cells": [
  {
   "cell_type": "markdown",
   "metadata": {},
   "source": [
    "# visualize\n",
    "http://www.pythontutor.com/live.html\n",
    "\n",
    "# pyformat\n",
    "https://pyformat.info/\n",
    "# challenges    \n",
    "http://exercism.io/"
   ]
  },
  {
   "cell_type": "code",
   "execution_count": 1,
   "metadata": {},
   "outputs": [],
   "source": [
    "# next session"
   ]
  },
  {
   "cell_type": "code",
   "execution_count": 3,
   "metadata": {},
   "outputs": [],
   "source": [
    "# else in for\n",
    "# difference between x and w in open()\n",
    "# when class.mro is used?\n",
    "\n",
    "\n",
    "# super lecture from Raymond\n",
    "https://www.youtube.com/watch?v=EiOglTERPEo\n",
    "    \n",
    "# there might be some cases where you can run pip install as a user and everything will work correctly"
   ]
  },
  {
   "cell_type": "markdown",
   "metadata": {},
   "source": [
    "# visualization\n",
    "https://www.youtube.com/watch?v=FytuB8nFHPQ\n"
   ]
  },
  {
   "cell_type": "markdown",
   "metadata": {},
   "source": [
    "[Raymond Hettinger lectures](https://www.youtube.com/playlist?list=PLRVdut2KPAguz3xcd22i_o_onnmDKj3MA)\n"
   ]
  },
  {
   "cell_type": "markdown",
   "metadata": {},
   "source": [
    "[Raymond's twitter](https://twitter.com/raymondh)"
   ]
  },
  {
   "cell_type": "code",
   "execution_count": null,
   "metadata": {},
   "outputs": [],
   "source": [
    "# keyword list\n",
    "https://www.programiz.com/python-programming/keyword-list"
   ]
  }
 ],
 "metadata": {
  "kernelspec": {
   "display_name": "Python 3",
   "language": "python",
   "name": "python3"
  },
  "language_info": {
   "codemirror_mode": {
    "name": "ipython",
    "version": 3
   },
   "file_extension": ".py",
   "mimetype": "text/x-python",
   "name": "python",
   "nbconvert_exporter": "python",
   "pygments_lexer": "ipython3",
   "version": "3.6.6"
  }
 },
 "nbformat": 4,
 "nbformat_minor": 2
}
