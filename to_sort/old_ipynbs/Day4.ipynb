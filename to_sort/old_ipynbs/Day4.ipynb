{
 "cells": [
  {
   "cell_type": "markdown",
   "metadata": {},
   "source": [
    "# Projects\n",
    "* (Easier) Zomato api - https://github.com/VikramjitRoy/Zomato-Python\n",
    "* (Harder) - Web scrapping on each restaurant and putting the data together\n",
    "* Break calculator - using datetime\n",
    "* Sleep deficiency - just one day, or by weekly\n",
    "* Expenses calculator - dict of expenses and income and do calculation\n",
    "* Inventory catalog - for books for example (if you hate Calibre)"
   ]
  },
  {
   "cell_type": "markdown",
   "metadata": {},
   "source": [
    "[books-courses-python](https://github.com/scraggo/bookmarks-programming/blob/master/python-bookmarks/books-courses-python.md)"
   ]
  },
  {
   "cell_type": "markdown",
   "metadata": {},
   "source": [
    "[itesco api](https://devportal.tescolabs.com/docs/services/56c73b1bf205fd0ed81dbe7a/operations/56d5b2bee2813e0a0053c47c)"
   ]
  },
  {
   "cell_type": "code",
   "execution_count": 10,
   "metadata": {
    "collapsed": true
   },
   "outputs": [],
   "source": [
    "# check file itesco_parser.py on slack, and there should be more examples"
   ]
  },
  {
   "cell_type": "markdown",
   "metadata": {},
   "source": [
    "```json\n",
    "{\n",
    "  \"2017-07-13\": {\n",
    "    \"products\": {\n",
    "      \"rohlik\": {\n",
    "        \"price\": 333,\n",
    "        \"color\": \"yellow\"\n",
    "      }\n",
    "    }\n",
    "  }\n",
    "}\n",
    "```"
   ]
  },
  {
   "cell_type": "markdown",
   "metadata": {},
   "source": [
    "### to create such data structure in python"
   ]
  },
  {
   "cell_type": "code",
   "execution_count": 11,
   "metadata": {
    "collapsed": true
   },
   "outputs": [],
   "source": [
    "itesco_structure = {}\n",
    "itesco_structure[\"2017-07-13\"] = {}\n",
    "itesco_structure[\"2017-07-13\"][\"products\"] = {}\n",
    "itesco_structure[\"2017-07-13\"][\"products\"][\"rohlik\"] = {}\n",
    "itesco_structure[\"2017-07-13\"][\"products\"][\"rohlik\"][\"price\"] = 333\n",
    "itesco_structure[\"2017-07-13\"][\"products\"][\"rohlik\"][\"color\"] = \"yellow\""
   ]
  },
  {
   "cell_type": "code",
   "execution_count": 12,
   "metadata": {},
   "outputs": [
    {
     "data": {
      "text/plain": [
       "{'2017-07-13': {'products': {'rohlik': {'color': 'yellow', 'price': 333}}}}"
      ]
     },
     "execution_count": 12,
     "metadata": {},
     "output_type": "execute_result"
    }
   ],
   "source": [
    "itesco_structure"
   ]
  },
  {
   "cell_type": "code",
   "execution_count": 3,
   "metadata": {
    "collapsed": true
   },
   "outputs": [],
   "source": [
    "new_dict = {'key_1' : 'value_1'}"
   ]
  },
  {
   "cell_type": "code",
   "execution_count": 4,
   "metadata": {
    "collapsed": true
   },
   "outputs": [],
   "source": [
    "#merging dicts"
   ]
  },
  {
   "cell_type": "code",
   "execution_count": 8,
   "metadata": {
    "collapsed": true
   },
   "outputs": [],
   "source": [
    "itesco_structure.update(new_dict)"
   ]
  },
  {
   "cell_type": "code",
   "execution_count": 9,
   "metadata": {},
   "outputs": [
    {
     "data": {
      "text/plain": [
       "{'2017-07-13': {'products': {'rohlik': {'color': 'yellow', 'price': 333}}},\n",
       " 'key_1': 'value_1'}"
      ]
     },
     "execution_count": 9,
     "metadata": {},
     "output_type": "execute_result"
    }
   ],
   "source": [
    "itesco_structure"
   ]
  },
  {
   "cell_type": "code",
   "execution_count": 39,
   "metadata": {},
   "outputs": [],
   "source": [
    "new_dict_2 = {'key_2' : 'value_2'}"
   ]
  },
  {
   "cell_type": "code",
   "execution_count": 16,
   "metadata": {
    "collapsed": true
   },
   "outputs": [],
   "source": [
    "#alternative, see https://stackoverflow.com/questions/38987/how-to-merge-two-python-dictionaries-in-a-single-expression"
   ]
  },
  {
   "cell_type": "code",
   "execution_count": 20,
   "metadata": {},
   "outputs": [],
   "source": [
    "new_dict3 = {**itesco_structure, **new_dict_2}"
   ]
  },
  {
   "cell_type": "code",
   "execution_count": 21,
   "metadata": {},
   "outputs": [
    {
     "data": {
      "text/plain": [
       "{'2017-07-13': {'products': {'rohlik': {'color': 'yellow', 'price': 333}}},\n",
       " 'key_2': 'value_2'}"
      ]
     },
     "execution_count": 21,
     "metadata": {},
     "output_type": "execute_result"
    }
   ],
   "source": [
    "new_dict3"
   ]
  },
  {
   "cell_type": "markdown",
   "metadata": {},
   "source": [
    "[Visualization Tutorial with Bokeh](http://bokeh.pydata.org/en/latest/docs/user_guide/plotting.html#userguide-plotting)"
   ]
  },
  {
   "cell_type": "markdown",
   "metadata": {},
   "source": [
    "[Visualization library overview](https://www.youtube.com/watch?v=FytuB8nFHPQ)"
   ]
  },
  {
   "cell_type": "markdown",
   "metadata": {},
   "source": [
    "# Writing dicts to json file"
   ]
  },
  {
   "cell_type": "code",
   "execution_count": 32,
   "metadata": {
    "collapsed": true
   },
   "outputs": [],
   "source": [
    "import json\n",
    "with open('file.json', 'w') as fw:\n",
    "    fw.write(json.dumps(new_dict3)) #using dumps and fw.write"
   ]
  },
  {
   "cell_type": "code",
   "execution_count": 33,
   "metadata": {},
   "outputs": [
    {
     "name": "stdout",
     "output_type": "stream",
     "text": [
      "{\"2017-07-13\": {\"products\": {\"rohlik\": {\"color\": \"yellow\", \"price\": 333}}}, \"key_2\": \"value_2\"}"
     ]
    }
   ],
   "source": [
    "cat file.json"
   ]
  },
  {
   "cell_type": "code",
   "execution_count": 40,
   "metadata": {},
   "outputs": [],
   "source": [
    "with open('file.json', 'w') as fw:\n",
    "    json.dump(new_dict_2, fw) #using dump to write to file object"
   ]
  },
  {
   "cell_type": "code",
   "execution_count": 41,
   "metadata": {},
   "outputs": [
    {
     "name": "stdout",
     "output_type": "stream",
     "text": [
      "{\"key_2\": \"value_2\"}"
     ]
    }
   ],
   "source": [
    "cat file.json"
   ]
  },
  {
   "cell_type": "code",
   "execution_count": null,
   "metadata": {
    "collapsed": true
   },
   "outputs": [],
   "source": []
  }
 ],
 "metadata": {
  "kernelspec": {
   "display_name": "Python 3",
   "language": "python",
   "name": "python3"
  },
  "language_info": {
   "codemirror_mode": {
    "name": "ipython",
    "version": 3
   },
   "file_extension": ".py",
   "mimetype": "text/x-python",
   "name": "python",
   "nbconvert_exporter": "python",
   "pygments_lexer": "ipython3",
   "version": "3.5.3"
  }
 },
 "nbformat": 4,
 "nbformat_minor": 2
}
